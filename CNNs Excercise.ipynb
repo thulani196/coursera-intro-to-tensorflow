{
  "nbformat": 4,
  "nbformat_minor": 0,
  "metadata": {
    "colab": {
      "name": "Exercise 3 - Question.ipynb",
      "version": "0.3.2",
      "provenance": [],
      "collapsed_sections": []
    },
    "kernelspec": {
      "name": "python3",
      "display_name": "Python 3"
    },
    "accelerator": "GPU"
  },
  "cells": [
    {
      "metadata": {
        "id": "iQjHqsmTAVLU",
        "colab_type": "text"
      },
      "cell_type": "markdown",
      "source": [
        "## Exercise 3\n",
        "In the videos you looked at how you would improve Fashion MNIST using Convolutions. For your exercise see if you can improve MNIST to 99.8% accuracy or more using only a single convolutional layer and a single MaxPooling 2D. You should stop training once the accuracy goes above this amount. It should happen in less than 20 epochs, so it's ok to hard code the number of epochs for training, but your training must end once it hits the above metric. If it doesn't, then you'll need to redesign your layers.\n",
        "\n",
        "I've started the code for you -- you need to finish it!\n",
        "\n",
        "When 99.8% accuracy has been hit, you should print out the string \"Reached 99.8% accuracy so cancelling training!\"\n"
      ]
    },
    {
      "metadata": {
        "id": "sfQRyaJWAIdg",
        "colab_type": "code",
        "colab": {
          "base_uri": "https://localhost:8080/",
          "height": 680
        },
        "outputId": "fa507957-8082-4909-b8bc-1d283c05106c"
      },
      "cell_type": "code",
      "source": [
        "import tensorflow as tf\n",
        "\n",
        "# YOUR CODE STARTS HERE\n",
        "\n",
        "# YOUR CODE ENDS HERE\n",
        "\n",
        "mnist = tf.keras.datasets.mnist\n",
        "(training_images, training_labels), (test_images, test_labels) = mnist.load_data()\n",
        "\n",
        "training_images = training_images.reshape(training_images.shape[0], 28,28,1)\n",
        "training_images = training_images / 255.0\n",
        "\n",
        "test_images = test_images.reshape(test_images.shape[0], 28,28,1)\n",
        "test_images = test_images / 255.0\n",
        "\n",
        "\n",
        "model = tf.keras.models.Sequential([\n",
        "    # YOUR CODE STARTS HERE\n",
        "    tf.keras.layers.Conv2D(256, (3,3), input_shape = (28, 28, 1), activation = 'relu'),\n",
        "    tf.keras.layers.MaxPooling2D(2,2),\n",
        "    tf.keras.layers.Flatten(),\n",
        "    tf.keras.layers.Dense(128, activation = 'relu'),\n",
        "    tf.keras.layers.Dense(10, activation = 'softmax')\n",
        "])\n",
        "\n",
        "\n",
        "\n",
        "model.compile(optimizer = 'adam', loss='sparse_categorical_crossentropy', metrics=['accuracy'])\n",
        "print(model.summary())\n",
        "model.fit(training_images, training_labels, epochs = 10)\n",
        "test_loss = model.evaluate(test_images, test_labels)\n"
      ],
      "execution_count": 13,
      "outputs": [
        {
          "output_type": "stream",
          "text": [
            "_________________________________________________________________\n",
            "Layer (type)                 Output Shape              Param #   \n",
            "=================================================================\n",
            "conv2d_4 (Conv2D)            (None, 26, 26, 256)       2560      \n",
            "_________________________________________________________________\n",
            "max_pooling2d_3 (MaxPooling2 (None, 13, 13, 256)       0         \n",
            "_________________________________________________________________\n",
            "flatten_3 (Flatten)          (None, 43264)             0         \n",
            "_________________________________________________________________\n",
            "dense_6 (Dense)              (None, 128)               5537920   \n",
            "_________________________________________________________________\n",
            "dense_7 (Dense)              (None, 10)                1290      \n",
            "=================================================================\n",
            "Total params: 5,541,770\n",
            "Trainable params: 5,541,770\n",
            "Non-trainable params: 0\n",
            "_________________________________________________________________\n",
            "None\n",
            "Epoch 1/10\n",
            "60000/60000 [==============================] - 27s 452us/sample - loss: 0.1207 - acc: 0.9629\n",
            "Epoch 2/10\n",
            "60000/60000 [==============================] - 24s 401us/sample - loss: 0.0419 - acc: 0.9871\n",
            "Epoch 3/10\n",
            "60000/60000 [==============================] - 24s 401us/sample - loss: 0.0241 - acc: 0.9923\n",
            "Epoch 4/10\n",
            "60000/60000 [==============================] - 24s 400us/sample - loss: 0.0161 - acc: 0.9950\n",
            "Epoch 5/10\n",
            "60000/60000 [==============================] - 24s 400us/sample - loss: 0.0119 - acc: 0.9964\n",
            "Epoch 6/10\n",
            "60000/60000 [==============================] - 24s 400us/sample - loss: 0.0082 - acc: 0.9974\n",
            "Epoch 7/10\n",
            "60000/60000 [==============================] - 24s 399us/sample - loss: 0.0075 - acc: 0.9975\n",
            "Epoch 8/10\n",
            "60000/60000 [==============================] - 24s 399us/sample - loss: 0.0058 - acc: 0.9983\n",
            "Epoch 9/10\n",
            "60000/60000 [==============================] - 24s 399us/sample - loss: 0.0055 - acc: 0.9985\n",
            "Epoch 10/10\n",
            "60000/60000 [==============================] - 24s 400us/sample - loss: 0.0049 - acc: 0.9984\n",
            "10000/10000 [==============================] - 1s 131us/sample - loss: 0.0681 - acc: 0.9870\n"
          ],
          "name": "stdout"
        }
      ]
    }
  ]
}